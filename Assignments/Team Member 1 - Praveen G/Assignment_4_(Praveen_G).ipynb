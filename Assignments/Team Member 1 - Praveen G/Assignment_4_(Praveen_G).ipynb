{
  "nbformat": 4,
  "nbformat_minor": 0,
  "metadata": {
    "colab": {
      "provenance": []
    },
    "kernelspec": {
      "name": "python3",
      "display_name": "Python 3"
    },
    "language_info": {
      "name": "python"
    }
  },
  "cells": [
    {
      "cell_type": "code",
      "source": [
        "from google.colab import drive\n",
        "drive.mount('/content/drive')"
      ],
      "metadata": {
        "colab": {
          "base_uri": "https://localhost:8080/"
        },
        "id": "XH1KaOgMco5S",
        "outputId": "5c311885-41f3-4a2b-866d-65835b90ff60"
      },
      "execution_count": 28,
      "outputs": [
        {
          "output_type": "stream",
          "name": "stdout",
          "text": [
            "Drive already mounted at /content/drive; to attempt to forcibly remount, call drive.mount(\"/content/drive\", force_remount=True).\n"
          ]
        }
      ]
    },
    {
      "cell_type": "markdown",
      "source": [
        "Import the libraries"
      ],
      "metadata": {
        "id": "ioCytSuLaHws"
      }
    },
    {
      "cell_type": "code",
      "execution_count": 29,
      "metadata": {
        "id": "uIt6pl4PZpcP"
      },
      "outputs": [],
      "source": [
        "import pandas as pd\n",
        "import numpy as np\n",
        "import matplotlib.pyplot as mplt\n",
        "from keras.models import Model\n",
        "from keras.layers import LSTM, Activation, Dense, Dropout, Input, Embedding\n",
        "from keras.optimizers import Adam\n",
        "from keras.preprocessing.text import Tokenizer\n",
        "from keras.preprocessing import sequence\n",
        "from keras.utils import pad_sequences\n",
        "from keras.utils import to_categorical\n",
        "from keras.callbacks import EarlyStopping\n",
        "from sklearn.model_selection import train_test_split\n",
        "from sklearn.preprocessing import LabelEncoder"
      ]
    },
    {
      "cell_type": "markdown",
      "source": [
        "Read the dataset"
      ],
      "metadata": {
        "id": "SKdkebYDgaI-"
      }
    },
    {
      "cell_type": "code",
      "source": [
        "ds = pd.read_csv('/content/drive/MyDrive/spam.csv',delimiter=',', encoding='latin-1')\n",
        "ds.head()"
      ],
      "metadata": {
        "colab": {
          "base_uri": "https://localhost:8080/",
          "height": 206
        },
        "id": "7nHfKmhRgbzw",
        "outputId": "6c52acc1-cee3-450b-b296-f498e15d4538"
      },
      "execution_count": 61,
      "outputs": [
        {
          "output_type": "execute_result",
          "data": {
            "text/plain": [
              "     v1  ... Unnamed: 4\n",
              "0   ham  ...        NaN\n",
              "1   ham  ...        NaN\n",
              "2  spam  ...        NaN\n",
              "3   ham  ...        NaN\n",
              "4   ham  ...        NaN\n",
              "\n",
              "[5 rows x 5 columns]"
            ],
            "text/html": [
              "\n",
              "  <div id=\"df-6dabcfa0-ea7a-4de5-b845-ec9256d6c924\">\n",
              "    <div class=\"colab-df-container\">\n",
              "      <div>\n",
              "<style scoped>\n",
              "    .dataframe tbody tr th:only-of-type {\n",
              "        vertical-align: middle;\n",
              "    }\n",
              "\n",
              "    .dataframe tbody tr th {\n",
              "        vertical-align: top;\n",
              "    }\n",
              "\n",
              "    .dataframe thead th {\n",
              "        text-align: right;\n",
              "    }\n",
              "</style>\n",
              "<table border=\"1\" class=\"dataframe\">\n",
              "  <thead>\n",
              "    <tr style=\"text-align: right;\">\n",
              "      <th></th>\n",
              "      <th>v1</th>\n",
              "      <th>v2</th>\n",
              "      <th>Unnamed: 2</th>\n",
              "      <th>Unnamed: 3</th>\n",
              "      <th>Unnamed: 4</th>\n",
              "    </tr>\n",
              "  </thead>\n",
              "  <tbody>\n",
              "    <tr>\n",
              "      <th>0</th>\n",
              "      <td>ham</td>\n",
              "      <td>Go until jurong point, crazy.. Available only ...</td>\n",
              "      <td>NaN</td>\n",
              "      <td>NaN</td>\n",
              "      <td>NaN</td>\n",
              "    </tr>\n",
              "    <tr>\n",
              "      <th>1</th>\n",
              "      <td>ham</td>\n",
              "      <td>Ok lar... Joking wif u oni...</td>\n",
              "      <td>NaN</td>\n",
              "      <td>NaN</td>\n",
              "      <td>NaN</td>\n",
              "    </tr>\n",
              "    <tr>\n",
              "      <th>2</th>\n",
              "      <td>spam</td>\n",
              "      <td>Free entry in 2 a wkly comp to win FA Cup fina...</td>\n",
              "      <td>NaN</td>\n",
              "      <td>NaN</td>\n",
              "      <td>NaN</td>\n",
              "    </tr>\n",
              "    <tr>\n",
              "      <th>3</th>\n",
              "      <td>ham</td>\n",
              "      <td>U dun say so early hor... U c already then say...</td>\n",
              "      <td>NaN</td>\n",
              "      <td>NaN</td>\n",
              "      <td>NaN</td>\n",
              "    </tr>\n",
              "    <tr>\n",
              "      <th>4</th>\n",
              "      <td>ham</td>\n",
              "      <td>Nah I don't think he goes to usf, he lives aro...</td>\n",
              "      <td>NaN</td>\n",
              "      <td>NaN</td>\n",
              "      <td>NaN</td>\n",
              "    </tr>\n",
              "  </tbody>\n",
              "</table>\n",
              "</div>\n",
              "      <button class=\"colab-df-convert\" onclick=\"convertToInteractive('df-6dabcfa0-ea7a-4de5-b845-ec9256d6c924')\"\n",
              "              title=\"Convert this dataframe to an interactive table.\"\n",
              "              style=\"display:none;\">\n",
              "        \n",
              "  <svg xmlns=\"http://www.w3.org/2000/svg\" height=\"24px\"viewBox=\"0 0 24 24\"\n",
              "       width=\"24px\">\n",
              "    <path d=\"M0 0h24v24H0V0z\" fill=\"none\"/>\n",
              "    <path d=\"M18.56 5.44l.94 2.06.94-2.06 2.06-.94-2.06-.94-.94-2.06-.94 2.06-2.06.94zm-11 1L8.5 8.5l.94-2.06 2.06-.94-2.06-.94L8.5 2.5l-.94 2.06-2.06.94zm10 10l.94 2.06.94-2.06 2.06-.94-2.06-.94-.94-2.06-.94 2.06-2.06.94z\"/><path d=\"M17.41 7.96l-1.37-1.37c-.4-.4-.92-.59-1.43-.59-.52 0-1.04.2-1.43.59L10.3 9.45l-7.72 7.72c-.78.78-.78 2.05 0 2.83L4 21.41c.39.39.9.59 1.41.59.51 0 1.02-.2 1.41-.59l7.78-7.78 2.81-2.81c.8-.78.8-2.07 0-2.86zM5.41 20L4 18.59l7.72-7.72 1.47 1.35L5.41 20z\"/>\n",
              "  </svg>\n",
              "      </button>\n",
              "      \n",
              "  <style>\n",
              "    .colab-df-container {\n",
              "      display:flex;\n",
              "      flex-wrap:wrap;\n",
              "      gap: 12px;\n",
              "    }\n",
              "\n",
              "    .colab-df-convert {\n",
              "      background-color: #E8F0FE;\n",
              "      border: none;\n",
              "      border-radius: 50%;\n",
              "      cursor: pointer;\n",
              "      display: none;\n",
              "      fill: #1967D2;\n",
              "      height: 32px;\n",
              "      padding: 0 0 0 0;\n",
              "      width: 32px;\n",
              "    }\n",
              "\n",
              "    .colab-df-convert:hover {\n",
              "      background-color: #E2EBFA;\n",
              "      box-shadow: 0px 1px 2px rgba(60, 64, 67, 0.3), 0px 1px 3px 1px rgba(60, 64, 67, 0.15);\n",
              "      fill: #174EA6;\n",
              "    }\n",
              "\n",
              "    [theme=dark] .colab-df-convert {\n",
              "      background-color: #3B4455;\n",
              "      fill: #D2E3FC;\n",
              "    }\n",
              "\n",
              "    [theme=dark] .colab-df-convert:hover {\n",
              "      background-color: #434B5C;\n",
              "      box-shadow: 0px 1px 3px 1px rgba(0, 0, 0, 0.15);\n",
              "      filter: drop-shadow(0px 1px 2px rgba(0, 0, 0, 0.3));\n",
              "      fill: #FFFFFF;\n",
              "    }\n",
              "  </style>\n",
              "\n",
              "      <script>\n",
              "        const buttonEl =\n",
              "          document.querySelector('#df-6dabcfa0-ea7a-4de5-b845-ec9256d6c924 button.colab-df-convert');\n",
              "        buttonEl.style.display =\n",
              "          google.colab.kernel.accessAllowed ? 'block' : 'none';\n",
              "\n",
              "        async function convertToInteractive(key) {\n",
              "          const element = document.querySelector('#df-6dabcfa0-ea7a-4de5-b845-ec9256d6c924');\n",
              "          const dataTable =\n",
              "            await google.colab.kernel.invokeFunction('convertToInteractive',\n",
              "                                                     [key], {});\n",
              "          if (!dataTable) return;\n",
              "\n",
              "          const docLinkHtml = 'Like what you see? Visit the ' +\n",
              "            '<a target=\"_blank\" href=https://colab.research.google.com/notebooks/data_table.ipynb>data table notebook</a>'\n",
              "            + ' to learn more about interactive tables.';\n",
              "          element.innerHTML = '';\n",
              "          dataTable['output_type'] = 'display_data';\n",
              "          await google.colab.output.renderOutput(dataTable, element);\n",
              "          const docLink = document.createElement('div');\n",
              "          docLink.innerHTML = docLinkHtml;\n",
              "          element.appendChild(docLink);\n",
              "        }\n",
              "      </script>\n",
              "    </div>\n",
              "  </div>\n",
              "  "
            ]
          },
          "metadata": {},
          "execution_count": 61
        }
      ]
    },
    {
      "cell_type": "markdown",
      "source": [
        "Preprocessing the testing and training dataset"
      ],
      "metadata": {
        "id": "PSOeKbH1g6bO"
      }
    },
    {
      "cell_type": "code",
      "source": [
        "ds.drop(['Unnamed: 2', 'Unnamed: 3', 'Unnamed: 4'], axis=1,inplace=True)"
      ],
      "metadata": {
        "id": "_4D5BexVg6KK"
      },
      "execution_count": 62,
      "outputs": []
    },
    {
      "cell_type": "code",
      "source": [
        "from wordcloud import STOPWORDS, ImageColorGenerator, WordCloud"
      ],
      "metadata": {
        "id": "QpxhSh3JiXPm"
      },
      "execution_count": 63,
      "outputs": []
    },
    {
      "cell_type": "code",
      "source": [
        "\n",
        "tds1 = ds.v2\n",
        "tds2 = ds.v1\n",
        "l_e = LabelEncoder()\n",
        "tds2 = l_e.fit_transform(tds2)\n",
        "tds2 = tds2.reshape(-1,1)"
      ],
      "metadata": {
        "id": "QTZEBu-8ivyq"
      },
      "execution_count": 64,
      "outputs": []
    },
    {
      "cell_type": "code",
      "source": [
        "tds1_train,tds1_test,tds2_train,tds2_test = train_test_split(tds1,tds2,test_size=0.25)"
      ],
      "metadata": {
        "id": "OsyNV26gjgcA"
      },
      "execution_count": 65,
      "outputs": []
    },
    {
      "cell_type": "code",
      "source": [
        "max_words = 1000\n",
        "max_len = 150\n",
        "token = Tokenizer(num_words = max_words)\n",
        "token.fit_on_texts(tds1_train)\n",
        "sequences = token.texts_to_sequences(tds1_train)\n",
        "sequences_matrix =  pad_sequences(sequences,maxlen=max_len)"
      ],
      "metadata": {
        "id": "yhhk1lARkLds"
      },
      "execution_count": 66,
      "outputs": []
    },
    {
      "cell_type": "markdown",
      "source": [
        "Creating model and adding layers"
      ],
      "metadata": {
        "id": "kXWFeYkto4sA"
      }
    },
    {
      "cell_type": "code",
      "source": [
        "input_layer = Input(shape=[max_len])\n",
        "layer = Embedding(max_words,50,input_length=max_len)(input_layer)\n",
        "layer = LSTM(128)(layer)\n",
        "layer = Dense(128)(layer)\n",
        "layer = Activation('relu')(layer)\n",
        "layer = Dense(1)(layer)\n",
        "layer = Activation('sigmoid')(layer)\n",
        "m = Model(inputs=input_layer,outputs=layer)\n",
        "m.summary()"
      ],
      "metadata": {
        "colab": {
          "base_uri": "https://localhost:8080/"
        },
        "id": "9dN0e4rfpZ-8",
        "outputId": "22276613-4e7a-426c-ce8f-76ab74dc0477"
      },
      "execution_count": 67,
      "outputs": [
        {
          "output_type": "stream",
          "name": "stdout",
          "text": [
            "Model: \"model_3\"\n",
            "_________________________________________________________________\n",
            " Layer (type)                Output Shape              Param #   \n",
            "=================================================================\n",
            " input_4 (InputLayer)        [(None, 150)]             0         \n",
            "                                                                 \n",
            " embedding_3 (Embedding)     (None, 150, 50)           50000     \n",
            "                                                                 \n",
            " lstm_3 (LSTM)               (None, 128)               91648     \n",
            "                                                                 \n",
            " dense_6 (Dense)             (None, 128)               16512     \n",
            "                                                                 \n",
            " activation_6 (Activation)   (None, 128)               0         \n",
            "                                                                 \n",
            " dense_7 (Dense)             (None, 1)                 129       \n",
            "                                                                 \n",
            " activation_7 (Activation)   (None, 1)                 0         \n",
            "                                                                 \n",
            "=================================================================\n",
            "Total params: 158,289\n",
            "Trainable params: 158,289\n",
            "Non-trainable params: 0\n",
            "_________________________________________________________________\n"
          ]
        }
      ]
    },
    {
      "cell_type": "markdown",
      "source": [
        "Compile the model"
      ],
      "metadata": {
        "id": "ZVjfaWGxqYlP"
      }
    },
    {
      "cell_type": "code",
      "source": [
        "m.compile(loss='binary_crossentropy',optimizer=Adam(),metrics=['accuracy'])"
      ],
      "metadata": {
        "id": "M4hcU1N_qaf5"
      },
      "execution_count": 68,
      "outputs": []
    },
    {
      "cell_type": "markdown",
      "source": [
        "Train the model"
      ],
      "metadata": {
        "id": "O-71EZSurCM9"
      }
    },
    {
      "cell_type": "code",
      "source": [
        "progress = m.fit(sequences_matrix,tds2_train,batch_size=20,epochs=10,validation_split=0.2)"
      ],
      "metadata": {
        "colab": {
          "base_uri": "https://localhost:8080/"
        },
        "id": "7OBfRC0JrDjv",
        "outputId": "bc63cd9e-7631-4dcb-8165-0e3e74efc456"
      },
      "execution_count": 69,
      "outputs": [
        {
          "output_type": "stream",
          "name": "stdout",
          "text": [
            "Epoch 1/10\n",
            "168/168 [==============================] - 31s 173ms/step - loss: 0.1690 - accuracy: 0.9432 - val_loss: 0.0739 - val_accuracy: 0.9797\n",
            "Epoch 2/10\n",
            "168/168 [==============================] - 29s 174ms/step - loss: 0.0324 - accuracy: 0.9895 - val_loss: 0.0796 - val_accuracy: 0.9821\n",
            "Epoch 3/10\n",
            "168/168 [==============================] - 28s 167ms/step - loss: 0.0155 - accuracy: 0.9943 - val_loss: 0.0804 - val_accuracy: 0.9821\n",
            "Epoch 4/10\n",
            "168/168 [==============================] - 30s 177ms/step - loss: 0.0038 - accuracy: 0.9988 - val_loss: 0.1167 - val_accuracy: 0.9797\n",
            "Epoch 5/10\n",
            "168/168 [==============================] - 28s 167ms/step - loss: 0.0011 - accuracy: 0.9997 - val_loss: 0.1365 - val_accuracy: 0.9725\n",
            "Epoch 6/10\n",
            "168/168 [==============================] - 28s 167ms/step - loss: 0.0032 - accuracy: 0.9985 - val_loss: 0.1677 - val_accuracy: 0.9844\n",
            "Epoch 7/10\n",
            "168/168 [==============================] - 28s 168ms/step - loss: 0.0114 - accuracy: 0.9958 - val_loss: 0.1154 - val_accuracy: 0.9844\n",
            "Epoch 8/10\n",
            "168/168 [==============================] - 28s 167ms/step - loss: 7.7236e-04 - accuracy: 1.0000 - val_loss: 0.1365 - val_accuracy: 0.9821\n",
            "Epoch 9/10\n",
            "168/168 [==============================] - 28s 166ms/step - loss: 1.3148e-04 - accuracy: 1.0000 - val_loss: 0.1472 - val_accuracy: 0.9821\n",
            "Epoch 10/10\n",
            "168/168 [==============================] - 28s 167ms/step - loss: 7.5655e-05 - accuracy: 1.0000 - val_loss: 0.1551 - val_accuracy: 0.9821\n"
          ]
        }
      ]
    },
    {
      "cell_type": "code",
      "source": [
        "metrics = pd.DataFrame(progress.history)\n",
        "metrics.rename(columns = {'loss': 'Training_Loss', 'accuracy': 'Training_Accuracy', 'val_loss': 'Validation_Loss', 'val_accuracy': 'Validation_Accuracy'}, inplace = True)\n",
        "def plot_graphs(var1, var2, string):\n",
        "    metrics[[var1, var2]].plot()\n",
        "    mplt.title('Training and Validation ' + string)\n",
        "    mplt.xlabel ('Number of epochs')\n",
        "    mplt.ylabel(string)\n",
        "    mplt.legend([var1, var2])"
      ],
      "metadata": {
        "id": "kEVe2PdH0wJ-"
      },
      "execution_count": 70,
      "outputs": []
    },
    {
      "cell_type": "code",
      "source": [
        "plot_graphs('Training_Accuracy', 'Validation_Accuracy', 'accuracy')"
      ],
      "metadata": {
        "colab": {
          "base_uri": "https://localhost:8080/",
          "height": 295
        },
        "id": "CsgHzdJT3GAA",
        "outputId": "d0ce419d-f060-4671-e9ff-830cac35c9d5"
      },
      "execution_count": 71,
      "outputs": [
        {
          "output_type": "display_data",
          "data": {
            "text/plain": [
              "<Figure size 432x288 with 1 Axes>"
            ],
            "image/png": "[encoded data removed]"
          },
          "metadata": {
            "needs_background": "light"
          }
        }
      ]
    },
    {
      "cell_type": "markdown",
      "source": [
        "Save the model"
      ],
      "metadata": {
        "id": "vRslz-Of8tPP"
      }
    },
    {
      "cell_type": "code",
      "source": [
        "m.save('spammodel.h5')"
      ],
      "metadata": {
        "id": "wHXmVR5s98em"
      },
      "execution_count": 72,
      "outputs": []
    },
    {
      "cell_type": "markdown",
      "source": [
        "Preprocess the testing data"
      ],
      "metadata": {
        "id": "x8QINna3-CfU"
      }
    },
    {
      "cell_type": "code",
      "source": [
        "test_sequences = token.texts_to_sequences(tds1_test)\n",
        "test_sequences_matrix = pad_sequences(test_sequences,maxlen=max_len)"
      ],
      "metadata": {
        "id": "7rpVwHZr-BDh"
      },
      "execution_count": 73,
      "outputs": []
    },
    {
      "cell_type": "markdown",
      "source": [
        "Test the model"
      ],
      "metadata": {
        "id": "XGDzP8Iw-YIU"
      }
    },
    {
      "cell_type": "code",
      "source": [
        "result = m.evaluate(test_sequences_matrix,tds2_test)"
      ],
      "metadata": {
        "colab": {
          "base_uri": "https://localhost:8080/"
        },
        "id": "cy5Tx8Sk-a49",
        "outputId": "c5f175c7-68a1-4360-dfef-e1d049ce2966"
      },
      "execution_count": 74,
      "outputs": [
        {
          "output_type": "stream",
          "name": "stdout",
          "text": [
            "44/44 [==============================] - 3s 67ms/step - loss: 0.1461 - accuracy: 0.9813\n"
          ]
        }
      ]
    },
    {
      "cell_type": "code",
      "source": [
        "print('Accuracy : {:0.3f}'.format(result[0],result[1]))"
      ],
      "metadata": {
        "colab": {
          "base_uri": "https://localhost:8080/"
        },
        "id": "o_ccES8d-mk9",
        "outputId": "f4b39278-4dfd-47d5-f208-7ad388f1f577"
      },
      "execution_count": 75,
      "outputs": [
        {
          "output_type": "stream",
          "name": "stdout",
          "text": [
            "Accuracy : 0.146\n"
          ]
        }
      ]
    }
  ]
}